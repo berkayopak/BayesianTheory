{
  "nbformat": 4,
  "nbformat_minor": 0,
  "metadata": {
    "colab": {
      "name": "BayesianTheory.ipynb",
      "version": "0.3.2",
      "provenance": [],
      "include_colab_link": true
    },
    "kernelspec": {
      "name": "python3",
      "display_name": "Python 3"
    }
  },
  "cells": [
    {
      "cell_type": "markdown",
      "metadata": {
        "id": "view-in-github",
        "colab_type": "text"
      },
      "source": [
        "<a href=\"https://colab.research.google.com/github/berkayopak/BayesianTheory/blob/master/BayesianTheory.ipynb\" target=\"_parent\"><img src=\"https://colab.research.google.com/assets/colab-badge.svg\" alt=\"Open In Colab\"/></a>"
      ]
    },
    {
      "metadata": {
        "id": "EMm7y0CK_O_9",
        "colab_type": "text"
      },
      "cell_type": "markdown",
      "source": [
        "# Bayes Teorisi\n",
        "\n",
        "Bayes teoremi, 18. yüzyıl İngiliz matematikçisi Thomas Bayes’in adını verdiği koşullu olasılığı belirlemek için kullanılan matematiksel bir formüldür.\n",
        "![bayes](https://cdn-images-1.medium.com/max/1600/0*4XMBpMgEHhI88qnw.jpg)\n",
        "\n",
        "P(A|B) = B olayı gerçekleştiğinde A olayının gerçekleşme olasılığı\n",
        "\n",
        "P(A) = A olayının gerçekleşme olasılığı\n",
        "\n",
        "P(B|A) = A olayı gerçekleştiğinde B olayının gerçekleşme olasılığı\n",
        "\n",
        "P(B) = B olayının gerçekleşme olasılığı\n",
        "\n",
        "## Örnek\n",
        "Her N insandan birinin üstün zekalı olduğu kabul ediliyor ve yapılan belirleme testleri; üstün zekalı insanlarda %X oranında, normal insanlarda da %Y oranında pozitif çıkıyor. Bu bilgilere göre test sonucu pozitif olan bir insanın üstün zekalı olma olasılığı nedir?"
      ]
    },
    {
      "metadata": {
        "id": "Dsc-9Lhjzj-p",
        "colab_type": "code",
        "colab": {
          "base_uri": "https://localhost:8080/",
          "height": 35
        },
        "outputId": "c0d24d2f-ce48-43b6-daa5-b6e90a6cf978"
      },
      "cell_type": "code",
      "source": [
        "N=100\n",
        "X=9/10\n",
        "Y=2/10\n",
        "\n",
        "total_people = N\n",
        "superior_mind = 1 / total_people\n",
        "normal_mind = 1 - superior_mind\n",
        "superior_positive = X\n",
        "normal_positive = Y\n",
        "\n",
        "positive_test = (superior_mind * superior_positive) + (normal_mind * normal_positive)\n",
        "p_test_superior_mind = (superior_positive * superior_mind) / positive_test\n",
        "\n",
        "print(\"Test sonucu pozitif olan bir insanın üstün zekalı olma olasılığı = %\" , p_test_superior_mind*100, sep='')"
      ],
      "execution_count": 20,
      "outputs": [
        {
          "output_type": "stream",
          "text": [
            "Test sonucu pozitif olan bir insanın üstün zekalı olma olasılığı = %4.3478260869565215\n"
          ],
          "name": "stdout"
        }
      ]
    }
  ]
}